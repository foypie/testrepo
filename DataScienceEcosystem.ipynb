{
 "cells": [
  {
   "cell_type": "markdown",
   "id": "a157e0ba-4ed7-41f3-a5b3-cb9993314ebd",
   "metadata": {},
   "source": [
    "# Data Science Tools and Ecosystem"
   ]
  },
  {
   "cell_type": "markdown",
   "id": "5ceb66c3-c19d-4ece-8757-9fef8ae3f476",
   "metadata": {},
   "source": [
    "## In this notebook, Data Science Tools and Ecosystem are summarized."
   ]
  },
  {
   "cell_type": "markdown",
   "id": "2893cd8f-9d3a-4b2b-b119-b84ac46f839a",
   "metadata": {},
   "source": [
    "### Some of the popular languages that Data Scientists use are:\n",
    "1. Python\n",
    "2. R\n",
    "3. SQL\n",
    "4. C++"
   ]
  },
  {
   "cell_type": "markdown",
   "id": "aff794ba-74f0-44d3-a066-fb1b177b9005",
   "metadata": {},
   "source": [
    "### Some of the popular languages that Data Scientists use are:\n",
    "1. Python\n",
    "2. R\n",
    "3. SQL\n",
    "4. C++"
   ]
  },
  {
   "cell_type": "markdown",
   "id": "b3b3e620-3055-4086-81bd-2a33d1f29e7e",
   "metadata": {},
   "source": [
    "### Some of the commonly used libraries used by Data Scientists include:\n",
    "1. Scrapy\n",
    "2. BeautifulSoup\n",
    "3. NumPy\n",
    "4. SciPy\n",
    "5. Pandas"
   ]
  },
  {
   "cell_type": "markdown",
   "id": "da3bd6a9-ef4e-417b-8484-6ca99bc96113",
   "metadata": {},
   "source": [
    "### Data Science Tools:\n",
    "|    | Data Science Tools |\n",
    "| -- | ------------------ |\n",
    "| 1  | Jupyter Notebooks  |\n",
    "| 2  | R Studio           |\n",
    "| 3  | Jupyter Labs       |"
   ]
  },
  {
   "cell_type": "markdown",
   "id": "9493c336-0a03-47b1-b056-7d2dc6290910",
   "metadata": {},
   "source": [
    "### Below are a few examples of evaluating arithmetic expressions in Python"
   ]
  },
  {
   "cell_type": "code",
   "execution_count": 76,
   "id": "2e3956c8-16d2-4a9f-b3b1-c066cd152cef",
   "metadata": {},
   "outputs": [
    {
     "data": {
      "text/plain": [
       "17"
      ]
     },
     "execution_count": 76,
     "metadata": {},
     "output_type": "execute_result"
    }
   ],
   "source": [
    "#This is a simple arithmetic expression to multiply then add integers\n",
    "(3*4)+5"
   ]
  },
  {
   "cell_type": "code",
   "execution_count": null,
   "id": "bb15e76a-b315-4700-9b94-cbee1d3b6a05",
   "metadata": {},
   "outputs": [],
   "source": []
  },
  {
   "cell_type": "code",
   "execution_count": 25,
   "id": "9e98c983-0d90-48b1-a57a-96c6a714aa81",
   "metadata": {},
   "outputs": [
    {
     "data": {
      "text/plain": [
       "3.3333333333333335"
      ]
     },
     "execution_count": 25,
     "metadata": {},
     "output_type": "execute_result"
    }
   ],
   "source": [
    "#This will convert 200 minutes to hours by dividing by 60\n",
    "200/60"
   ]
  },
  {
   "cell_type": "markdown",
   "id": "0a853e01-f62e-4de6-a133-f09c5e8aff8c",
   "metadata": {},
   "source": [
    "# Some of the popular languages that Data Scientists use are:\n",
    "\n",
    "1. Python\n",
    "2. R\n",
    "3. SQL\n",
    "4. C++"
   ]
  },
  {
   "cell_type": "markdown",
   "id": "a592a297-83d0-4134-8ef5-4c2db59e1826",
   "metadata": {
    "tags": []
   },
   "source": [
    "# **Objectives:**\n",
    "- List popular languages for Data Science\n",
    "- List common libraries for Data Science\n",
    "- List common development environments for Data Science\n",
    "- Use Python to evaluate arithmetic expression"
   ]
  },
  {
   "cell_type": "markdown",
   "id": "6087f0cd-32c7-42b7-a326-34c54538619f",
   "metadata": {},
   "source": [
    "## Author\n",
    "Pierre Foy"
   ]
  },
  {
   "cell_type": "code",
   "execution_count": null,
   "id": "ceff6eb6-0b89-4784-86af-fe826c62455b",
   "metadata": {},
   "outputs": [],
   "source": []
  }
 ],
 "metadata": {
  "kernelspec": {
   "display_name": "anaconda-panel-2023.05-py310",
   "language": "python",
   "name": "conda-env-anaconda-panel-2023.05-py310-py"
  },
  "language_info": {
   "codemirror_mode": {
    "name": "ipython",
    "version": 3
   },
   "file_extension": ".py",
   "mimetype": "text/x-python",
   "name": "python",
   "nbconvert_exporter": "python",
   "pygments_lexer": "ipython3",
   "version": "3.11.5"
  }
 },
 "nbformat": 4,
 "nbformat_minor": 5
}
